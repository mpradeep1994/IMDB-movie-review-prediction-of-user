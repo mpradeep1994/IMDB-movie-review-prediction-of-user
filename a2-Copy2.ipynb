{
 "cells": [
  {
   "cell_type": "code",
   "execution_count": 5,
   "metadata": {
    "collapsed": false
   },
   "outputs": [],
   "source": [
    "\n",
    "\"\"\"\n",
    "CS579: Assignment 2\n",
    "\n",
    "In this assignment, you will build a text classifier to determine whether a\n",
    "movie review is expressing positive or negative sentiment. The data come from\n",
    "the website IMDB.com.\n",
    "\n",
    "You'll write code to preprocess the data in different ways (creating different\n",
    "features), then compare the cross-validation accuracy of each approach. Then,\n",
    "you'll compute accuracy on a test set and do some analysis of the errors.\n",
    "\n",
    "The main method takes about 40 seconds for me to run on my laptop. Places to\n",
    "check for inefficiency include the vectorize function and the\n",
    "eval_all_combinations function.\n",
    "\n",
    "Complete the 14 methods below, indicated by TODO.\n",
    "\n",
    "As usual, completing one method at a time, and debugging with doctests, should\n",
    "help.\n",
    "\"\"\"\n",
    "\n",
    "# No imports allowed besides these.\n",
    "from collections import Counter, defaultdict\n",
    "from itertools import chain, combinations\n",
    "import glob\n",
    "import matplotlib.pyplot as plt\n",
    "import numpy as np\n",
    "import os\n",
    "import re\n",
    "from scipy.sparse import csr_matrix\n",
    "from sklearn.cross_validation import KFold\n",
    "from sklearn.linear_model import LogisticRegression\n",
    "import string\n",
    "import tarfile\n",
    "import urllib.request\n",
    "\n",
    "\n",
    "def download_data():\n",
    "\n",
    "    url = 'https://www.dropbox.com/s/xk4glpk61q3qrg2/imdb.tgz?dl=1'\n",
    "    urllib.request.urlretrieve(url, 'imdb.tgz')\n",
    "    tar = tarfile.open(\"imdb.tgz\")\n",
    "    tar.extractall()\n",
    "    tar.close()\n",
    "\n",
    "\n",
    "def read_data(path):\n",
    "    \"\"\"\n",
    "    Walks all subdirectories of this path and reads all\n",
    "    the text files and labels.\n",
    "    DONE ALREADY.\n",
    "\n",
    "    Params:\n",
    "      path....path to files\n",
    "    Returns:\n",
    "      docs.....list of strings, one per document\n",
    "      labels...list of ints, 1=positive, 0=negative label.\n",
    "               Inferred from file path (i.e., if it contains\n",
    "               'pos', it is 1, else 0)\n",
    "    \"\"\"\n",
    "    fnames = sorted([f for f in glob.glob(os.path.join(path, 'pos', '*.txt'))])\n",
    "    data = [(1, open(f).readlines()[0]) for f in sorted(fnames)]\n",
    "    fnames = sorted([f for f in glob.glob(os.path.join(path, 'neg', '*.txt'))])\n",
    "    data += [(0, open(f).readlines()[0]) for f in sorted(fnames)]\n",
    "    data = sorted(data, key=lambda x: x[1])\n",
    "    return np.array([d[1] for d in data]), np.array([d[0] for d in data])\n"
   ]
  },
  {
   "cell_type": "code",
   "execution_count": null,
   "metadata": {
    "collapsed": true
   },
   "outputs": [],
   "source": []
  },
  {
   "cell_type": "code",
   "execution_count": 68,
   "metadata": {
    "collapsed": false
   },
   "outputs": [],
   "source": [
    "def tokenize(doc, keep_internal_punct=False):\n",
    "    \"\"\"\n",
    "    Tokenize a string.\n",
    "    The string should be converted to lowercase.\n",
    "    If keep_internal_punct is False, then return only the alphanumerics (letters, numbers and underscore).\n",
    "    If keep_internal_punct is True, then also retain punctuation that\n",
    "    is inside of a word. E.g., in the example below, the token \"isn't\"\n",
    "    is maintained when keep_internal_punct=True; o=therwise, it is\n",
    "    split into \"isn\" and \"t\" tokens.\n",
    "\n",
    "    Params:\n",
    "      doc....a string.\n",
    "      keep_internal_punct...see above\n",
    "    Returns:\n",
    "      a numpy array containing the resulting tokens.\n",
    "\n",
    "    >>> tokenize(\" Hi there! Isn't this fun?\", keep_internal_punct=False)\n",
    "    array(['hi', 'there', 'isn', 't', 'this', 'fun'], \n",
    "          dtype='<U5')\n",
    "    >>> tokenize(\"Hi there! Isn't this fun? \", keep_internal_punct=True)\n",
    "    array(['hi', 'there', \"isn't\", 'this', 'fun'], \n",
    "          dtype='<U5')\n",
    "    \"\"\"\n",
    "    ###TODO\n",
    "   \n",
    "    \n",
    "    if (keep_internal_punct is False):\n",
    "        return (np.array(re.sub('\\W+', ' ', doc.lower()).split()))\n",
    "    else:\n",
    "        #return (np.array(re.sub(r\"\"\"[\".?,$!]|'(?!(?<!')[ts])\"\"\",\"\", low_str).split()))\n",
    "        return (np.array([word.strip(string.punctuation) for word in doc.lower().split()]))\n",
    "    pass"
   ]
  },
  {
   "cell_type": "code",
   "execution_count": 69,
   "metadata": {
    "collapsed": false
   },
   "outputs": [
    {
     "data": {
      "text/plain": [
       "array(['necrono_mico....n', 'geträumte', 'sünden.<br>hi'], \n",
       "      dtype='<U17')"
      ]
     },
     "execution_count": 69,
     "metadata": {},
     "output_type": "execute_result"
    }
   ],
   "source": [
    "#tokenize(\" Hi there! Isn't #this fun?\", keep_internal_punct=False)\n",
    "\n",
    "\"\"\"array(['necro_nomicon', 'geträumte', 'sünden.<br>hi'], \n",
    "      dtype='<U13')\n",
    "\"\"\"\n",
    "\n",
    "tokenize(\"??necrono_mico....n?? geträumte sünden.<br>Hi\", keep_internal_punct=True)"
   ]
  },
  {
   "cell_type": "code",
   "execution_count": 73,
   "metadata": {
    "collapsed": false
   },
   "outputs": [
    {
     "data": {
      "text/plain": [
       "array(['hi', \"i'm\"], \n",
       "      dtype='<U3')"
      ]
     },
     "execution_count": 73,
     "metadata": {},
     "output_type": "execute_result"
    }
   ],
   "source": [
    "tokenize(\"Hi! I'm\", keep_internal_punct=True)"
   ]
  },
  {
   "cell_type": "code",
   "execution_count": 74,
   "metadata": {
    "collapsed": false,
    "scrolled": true
   },
   "outputs": [
    {
     "name": "stdout",
     "output_type": "stream",
     "text": [
      "['hi' 'there' \"isn't\" 'this' 'f,.un']\n"
     ]
    }
   ],
   "source": [
    "p=tokenize(\" Hi there! Isn't this f,.un?\", keep_internal_punct=True)\n",
    "print (p)\n"
   ]
  },
  {
   "cell_type": "code",
   "execution_count": 75,
   "metadata": {
    "collapsed": false
   },
   "outputs": [],
   "source": [
    "def token_features(tokens, feats):\n",
    "    \n",
    "    \"\"\"\n",
    "    Add features for each token. The feature name\n",
    "    is pre-pended with the string \"token=\".\n",
    "    Note that the feats dict is modified in place,\n",
    "    so there is no return value.\n",
    "\n",
    "    Params:\n",
    "      tokens...array of token strings from a document.\n",
    "      feats....dict from feature name to frequency\n",
    "    Returns:\n",
    "      nothing; feats is modified in place.\n",
    "\n",
    "    >>> feats = defaultdict(lambda: 0)\n",
    "    >>> token_features(['hi', 'there', 'hi'], feats)\n",
    "    >>> sorted(feats.items())\n",
    "    [('token=hi', 2), ('token=there', 1)]\n",
    "    \n",
    "    \"\"\"\n",
    "    ###TODO\n",
    "    prepend= \"token=\" \n",
    "  \n",
    "    for each in tokens:\n",
    "        feats[prepend+ str(each)] +=1 \n",
    "    \n",
    "    pass\n"
   ]
  },
  {
   "cell_type": "code",
   "execution_count": 76,
   "metadata": {
    "collapsed": false
   },
   "outputs": [
    {
     "data": {
      "text/plain": [
       "[('token=hi', 2), ('token=there', 1)]"
      ]
     },
     "execution_count": 76,
     "metadata": {},
     "output_type": "execute_result"
    }
   ],
   "source": [
    "feats = defaultdict(lambda: 0)\n",
    "token_features(['hi', 'there', 'hi'], feats)\n",
    "sorted(feats.items())\n"
   ]
  },
  {
   "cell_type": "code",
   "execution_count": null,
   "metadata": {
    "collapsed": false
   },
   "outputs": [],
   "source": [
    "\n"
   ]
  },
  {
   "cell_type": "code",
   "execution_count": 15,
   "metadata": {
    "collapsed": false
   },
   "outputs": [],
   "source": [
    "def token_pair_features(tokens, feats, k=3):\n",
    "    \"\"\"\n",
    "    Compute features indicating that two words occur near\n",
    "    each other within a window of size k.\n",
    "\n",
    "    For example [a, b, c, d] with k=3 will consider the\n",
    "    windows: [a,b,c], [b,c,d]. In the first window,\n",
    "    a_b, a_c, and b_c appear; in the second window,\n",
    "    b_c, c_d, and b_d appear. This example is in the\n",
    "    doctest below.\n",
    "    Note that the order of the tokens in the feature name\n",
    "    matches the order in which they appear in the document.\n",
    "    (e.g., a__b, not b__a)\n",
    "\n",
    "    Params:\n",
    "      tokens....array of token strings from a document.\n",
    "      feats.....a dict from feature to value\n",
    "      k.........the window size (3 by default)\n",
    "    Returns:\n",
    "      nothing; feats is modified in place.\n",
    "\n",
    "    >>> feats = defaultdict(lambda: 0)\n",
    "    >>> token_pair_features(np.array(['a', 'b', 'c', 'd']), feats)\n",
    "    >>> sorted(feats.items())\n",
    "    [('token_pair=a__b', 1), ('token_pair=a__c', 1), ('token_pair=b__c', 2), ('token_pair=b__d', 1), ('token_pair=c__d', 1)]\n",
    "    \"\"\"\n",
    "    ###TODO\n",
    "     \n",
    "    window=[]\n",
    "    for i in range(0,len(tokens)-2):\n",
    "        window.append(tokens[i:i+k])\n",
    "    \n",
    "    prefix= \"token_pair=\"\n",
    "    for out in range(len(window)):\n",
    "        for i in range(3):\n",
    "            j=i+1\n",
    "            while(j<3):\n",
    "                feats[prefix+ window[out][i]+\"_\"+window[out][j]]+=1\n",
    "                j+=1\n",
    "    \n",
    "                \n",
    "    pass\n",
    "\n",
    "\n"
   ]
  },
  {
   "cell_type": "code",
   "execution_count": null,
   "metadata": {
    "collapsed": false
   },
   "outputs": [],
   "source": []
  },
  {
   "cell_type": "code",
   "execution_count": 79,
   "metadata": {
    "collapsed": true
   },
   "outputs": [],
   "source": [
    "neg_words = set(['bad', 'hate', 'horrible', 'worst', 'boring'])\n",
    "pos_words = set(['awesome', 'amazing', 'best', 'good', 'great', 'love', 'wonderful'])\n"
   ]
  },
  {
   "cell_type": "code",
   "execution_count": 122,
   "metadata": {
    "collapsed": false
   },
   "outputs": [],
   "source": [
    "def lexicon_features(tokens, feats):\n",
    "    \"\"\"\n",
    "    Add features indicating how many time a token appears that matches either\n",
    "    the neg_words or pos_words (defined above). The matching should ignore\n",
    "    case.\n",
    "\n",
    "    Params:\n",
    "      tokens...array of token strings from a document.\n",
    "      feats....dict from feature name to frequency\n",
    "    Returns:\n",
    "      nothing; feats is modified in place.\n",
    "                \n",
    "    In this example, 'LOVE' and 'great' match the pos_words,\n",
    "    and 'boring' matches the neg_words list.\n",
    "    >>> feats = defaultdict(lambda: 0)\n",
    "    >>> lexicon_features(np.array(['i', 'LOVE', 'this', 'great', 'boring', 'movie']), feats)\n",
    "    >>> sorted(feats.items())\n",
    "    [('neg_words', 1), ('pos_words', 2)]\n",
    "    \"\"\"\n",
    "    #feats['pos_words']=0\n",
    "    #feats['neg_words']=0\n",
    "    for i in tokens:\n",
    "        if i.lower() in pos_words:\n",
    "            if 'pos_words' in feats:\n",
    "                feats['pos_words'] += 1\n",
    "            else:\n",
    "                feats['pos_words'] = 1\n",
    "           \n",
    "        elif i.lower() in neg_words:\n",
    "            if 'neg_words' in feats:\n",
    "                feats['neg_words'] += 1\n",
    "            else:\n",
    "                feats['neg_words'] = 1\n",
    "    \n",
    "    pass\n",
    "\n"
   ]
  },
  {
   "cell_type": "code",
   "execution_count": 123,
   "metadata": {
    "collapsed": false
   },
   "outputs": [
    {
     "data": {
      "text/plain": [
       "[('neg_words', 1), ('pos_words', 2)]"
      ]
     },
     "execution_count": 123,
     "metadata": {},
     "output_type": "execute_result"
    }
   ],
   "source": [
    "feats = defaultdict(lambda: 0)\n",
    "\n",
    "lexicon_features(np.array(['i', 'LOVE', 'this', 'great', 'boring', 'movie']), feats)\n",
    "sorted(feats.items())"
   ]
  },
  {
   "cell_type": "code",
   "execution_count": 85,
   "metadata": {
    "collapsed": true
   },
   "outputs": [],
   "source": [
    "def featurize(tokens, feature_fns):\n",
    "    \"\"\"\n",
    "    Compute all features for a list of tokens from\n",
    "    a single document.\n",
    "\n",
    "    Params:\n",
    "      tokens........array of token strings from a document.\n",
    "      feature_fns...a list of functions, one per feature\n",
    "    Returns:\n",
    "      list of (feature, value) tuples, SORTED alphabetically\n",
    "      by the feature name.\n",
    "\n",
    "    >>> feats = featurize(np.array(['i', 'LOVE', 'this', 'great', 'movie']), [token_features, lexicon_features])\n",
    "    >>> \n",
    "    [('neg_words', 0), ('pos_words', 2), ('token=LOVE', 1), ('token=great', 1), ('token=i', 1), ('token=movie', 1), ('token=this', 1)]\n",
    "    \"\"\"\n",
    "    ###TODO\n",
    "    \n",
    "    feats = defaultdict(lambda :0)\n",
    "    for func in feature_fns:\n",
    "        func(tokens, feats)\n",
    "    return sorted(feats.items())\n",
    "    pass\n",
    "\n"
   ]
  },
  {
   "cell_type": "code",
   "execution_count": 86,
   "metadata": {
    "collapsed": false
   },
   "outputs": [
    {
     "data": {
      "text/plain": [
       "[('neg_words', 0),\n",
       " ('pos_words', 1),\n",
       " ('token_pair=LOVE_great', 1),\n",
       " ('token_pair=LOVE_this', 2),\n",
       " ('token_pair=great_movie', 1),\n",
       " ('token_pair=i_LOVE', 1),\n",
       " ('token_pair=i_this', 1),\n",
       " ('token_pair=this_great', 2),\n",
       " ('token_pair=this_movie', 1)]"
      ]
     },
     "execution_count": 86,
     "metadata": {},
     "output_type": "execute_result"
    }
   ],
   "source": [
    "feats = featurize(np.array(['i', 'LOVE', 'this', 'great', 'movie']), [token_pair_features, lexicon_features])\n",
    "feats"
   ]
  },
  {
   "cell_type": "code",
   "execution_count": 124,
   "metadata": {
    "collapsed": false
   },
   "outputs": [],
   "source": [
    "def vectorize(tokens_list, feature_fns, min_freq, vocab=None):\n",
    "    \"\"\"\n",
    "    Given the tokens for a set of documents, create a sparse\n",
    "    feature matrix, where each row represents a document, and\n",
    "    each column represents a feature.\n",
    "\n",
    "    Params:\n",
    "      tokens_list...a list of lists; each sublist is an\n",
    "                    array of token strings from a document.\n",
    "      feature_fns...a list of functions, one per feature\n",
    "      min_freq......Remove features that do not appear in\n",
    "                    at least min_freq different documents.\n",
    "    Returns:\n",
    "      - a csr_matrix: See https://goo.gl/f5TiF1 for documentation.\n",
    "      This is a sparse matrix (zero values are not stored).\n",
    "      - vocab: a dict from feature name to column index. NOTE\n",
    "      that the columns are sorted alphabetically (so, the feature\n",
    "      \"token=great\" is column 0 and \"token=horrible\" is column 1\n",
    "      because \"great\" < \"horrible\" alphabetically),\n",
    "\n",
    "    >>> docs = [\"Isn't this movie great?\", \"Horrible, horrible movie\"]\n",
    "    >>> tokens_list = [tokenize(d) for d in docs]\n",
    "    >>> feature_fns = [token_features]\n",
    "    >>> X, vocab = vectorize(tokens_list, feature_fns, min_freq=1)\n",
    "    >>> type(X)\n",
    "    <class 'scipy.sparse.csr.csr_matrix'>\n",
    "    >>> \n",
    "    array([[1, 0, 1, 1, 1, 1],\n",
    "           [0, 2, 0, 1, 0, 0]], dtype=int64)\n",
    "    >>> sorted(vocab.items(), key=lambda x: x[1])\n",
    "    [('token=great', 0), ('token=horrible', 1), ('token=isn', 2), ('token=movie', 3), ('token=t', 4), ('token=this', 5)]\n",
    "    \"\"\"\n",
    "    ###TODO\n",
    "    d = defaultdict(list)\n",
    "    for i in range(len(tokens_list)):\n",
    "        feat_list = featurize(tokens_list[i],feature_fns)\n",
    "        for f in feat_list:\n",
    "            if f[0] in d:\n",
    "                d[f[0]].append((i,f[1]))\n",
    "            else:\n",
    "                d[f[0]] = [(i,f[1])]\n",
    "  \n",
    "    index = 0\n",
    "    if vocab == None:\n",
    "        vocab={}\n",
    "        for feat in sorted(d):\n",
    "            if len(d[feat]) >= min_freq:\n",
    "                vocab[feat] = index\n",
    "                index += 1\n",
    "      \n",
    "    row = []\n",
    "    column =[]\n",
    "    data=[]\n",
    "    \n",
    "    for i in vocab:\n",
    "        for j in d[i]:\n",
    "            row.append(j[0])\n",
    "            column.append(vocab[i])\n",
    "            data.append(j[1])\n",
    " \n",
    "    \n",
    "    return csr_matrix((data, (row, column)), shape=(len(tokens_list), len(vocab)),dtype='int64'),vocab\n",
    "    pass"
   ]
  },
  {
   "cell_type": "code",
   "execution_count": 102,
   "metadata": {
    "collapsed": true
   },
   "outputs": [],
   "source": [
    "def accuracy_score(truth, predicted):\n",
    "    \"\"\" Compute accuracy of predictions.\n",
    "    Params:\n",
    "      truth.......array of true labels (0 or 1)\n",
    "      predicted...array of predicted labels (0 or 1)\n",
    "    \"\"\"\n",
    "    return len(np.where(truth==predicted)[0]) / len(truth)"
   ]
  },
  {
   "cell_type": "code",
   "execution_count": null,
   "metadata": {
    "collapsed": false
   },
   "outputs": [],
   "source": []
  },
  {
   "cell_type": "code",
   "execution_count": 126,
   "metadata": {
    "collapsed": false
   },
   "outputs": [],
   "source": [
    "def cross_validation_accuracy(clf, X, labels, k):\n",
    "    \"\"\"\n",
    "    Compute the average testing accuracy over k folds of cross-validation. You\n",
    "    can use sklearn's KFold class here (no random seed, and no shuffling\n",
    "    needed).\n",
    "\n",
    "    Params:\n",
    "      clf......A LogisticRegression classifier.\n",
    "      X........A csr_matrix of features.\n",
    "      labels...The true labels for each instance in X\n",
    "      k........The number of cross-validation folds.\n",
    "\n",
    "    Returns:\n",
    "      The average testing accuracy of the classifier\n",
    "      over each fold of cross-validation.\n",
    "    \"\"\"\n",
    "    cv = KFold(len(labels), k)\n",
    "    accuracies = []\n",
    "    i = 0\n",
    "    for train_ind, test_ind in cv: \n",
    "        clf.fit(X[train_ind], labels[train_ind])\n",
    "        predictions = clf.predict(X[test_ind])\n",
    "        accuracies.append(accuracy_score(labels[test_ind], predictions))\n",
    "    avg = np.mean(accuracies)\n",
    "    return avg"
   ]
  },
  {
   "cell_type": "code",
   "execution_count": 115,
   "metadata": {
    "collapsed": false
   },
   "outputs": [],
   "source": [
    "def eval_all_combinations(docs, labels, punct_vals,\n",
    "                          feature_fns, min_freqs):\n",
    "    \"\"\"\n",
    "    Enumerate all possible classifier settings and compute the\n",
    "    cross validation accuracy for each setting. We will use this\n",
    "    to determine which setting has the best accuracy.\n",
    "\n",
    "    For each setting, construct a LogisticRegression classifier\n",
    "    and compute its cross-validation accuracy for that setting.\n",
    "\n",
    "    In addition to looping over possible assignments to\n",
    "    keep_internal_punct and min_freqs, we will enumerate all\n",
    "    possible combinations of feature functions. So, if\n",
    "    feature_fns = [token_features, token_pair_features, lexicon_features],\n",
    "    then we will consider all 7 combinations of features (see Log.txt\n",
    "    for more examples).\n",
    "\n",
    "    Params:\n",
    "      docs..........The list of original training documents.\n",
    "      labels........The true labels for each training document (0 or 1)\n",
    "      punct_vals....List of possible assignments to\n",
    "                    keep_internal_punct (e.g., [True, False])\n",
    "      feature_fns...List of possible feature functions to use\n",
    "      min_freqs.....List of possible min_freq values to use\n",
    "                    (e.g., [2,5,10])\n",
    "\n",
    "    Returns:\n",
    "      A list of dicts, one per combination. Each dict has\n",
    "      four keys:\n",
    "      'punct': True or False, the setting of keep_internal_punct\n",
    "      'features': The list of functions used to compute features.\n",
    "      'min_freq': The setting of the min_freq parameter.\n",
    "      'accuracy': The average cross_validation accuracy for this setting, using 5 folds.\n",
    "\n",
    "      This list should be SORTED in descending order of accuracy.\n",
    "\n",
    "      This function will take a bit longer to run (~20s for me).\n",
    "      \n",
    "    \"\"\"\n",
    "    clf = LogisticRegression()\n",
    "    feats = defaultdict(lambda:0)\n",
    "    tokens_list=[]\n",
    "    combs= []\n",
    "    final=[]\n",
    "    for i in range(1, len(feature_fns)+1):\n",
    "        l = [list(x) for x in combinations([feature_fns[0],feature_fns[1],feature_fns[2]], i)]\n",
    "        combs += l\n",
    "        \n",
    "    eval_list = []\n",
    "    for punct in punct_vals:\n",
    "        \n",
    "        tokens_list = [tokenize(d, keep_internal_punct = punct) for d in docs]\n",
    "        for freq in min_freqs:\n",
    "            for c in combs:\n",
    "                temp_dict = {}\n",
    "                X, vocab = vectorize(tokens_list, c, min_freq=freq)\n",
    "                accuracy = cross_validation_accuracy(clf, X, labels,5)\n",
    "                temp_dict['features'] = tuple(c)\n",
    "                temp_dict['punct'] = punct\n",
    "                temp_dict['accuracy'] = accuracy\n",
    "                temp_dict['min_freq'] = freq\n",
    "                eval_list.append(temp_dict)\n",
    "    return sorted(eval_list, key=lambda k: (k['accuracy'],k['min_freq']), reverse = True)    "
   ]
  },
  {
   "cell_type": "code",
   "execution_count": null,
   "metadata": {
    "collapsed": true
   },
   "outputs": [],
   "source": []
  },
  {
   "cell_type": "code",
   "execution_count": 203,
   "metadata": {
    "collapsed": false
   },
   "outputs": [],
   "source": [
    "def plot_sorted_accuracies(results):\n",
    "    \"\"\"\n",
    "    Plot all accuracies from the result of eval_all_combinations\n",
    "    in ascending order of accuracy.\n",
    "    Save to \"accuracies.png\".\n",
    "    \"\"\"\n",
    "    ###TODO\n",
    "   \n",
    "    acc=[]\n",
    "    for accuracy in results:\n",
    "        acc.append(accuracy['accuracy']) \n",
    "    plt.plot(sorted(acc))\n",
    "    plt.ylabel('accuracy')\n",
    "    plt.xlabel('setting')\n",
    "    plt.savefig(\"accuraciesq.png\")\n",
    "    \n",
    "    pass"
   ]
  },
  {
   "cell_type": "code",
   "execution_count": 10,
   "metadata": {
    "collapsed": false
   },
   "outputs": [],
   "source": [
    "\n",
    "def plot_sorted_accuracies():\n",
    "    \"\"\"\n",
    "    Plot all accuracies from the result of eval_all_combinations\n",
    "    in ascending order of accuracy.\n",
    "    Save to \"accuracies.png\".\n",
    "    \"\"\"\n",
    "    ###TODO\n",
    "   \n",
    "    acc=[0.77000000000000013, 0.76250000000000007, 0.76000000000000001, 0.75250000000000006, 0.75250000000000006, 0.75250000000000006, 0.75249999999999995, 0.75, 0.74750000000000005, 0.745, 0.74250000000000005, 0.74249999999999994, 0.73999999999999999, 0.73999999999999999, 0.73999999999999999, 0.73250000000000015, 0.72999999999999998, 0.72750000000000004, 0.72499999999999998, 0.72250000000000003, 0.72249999999999992, 0.71999999999999997, 0.71999999999999997, 0.71999999999999997, 0.71499999999999997, 0.71250000000000013, 0.70999999999999996, 0.70000000000000007, 0.69999999999999996, 0.69750000000000012, 0.6925, 0.6925, 0.6875, 0.68499999999999994, 0.67999999999999994, 0.65500000000000003, 0.65500000000000003, 0.65500000000000003, 0.65500000000000003, 0.64749999999999996, 0.64749999999999996, 0.64749999999999996]\n",
    "    plt.plot(sorted(acc))\n",
    "    plt.ylabel('Accuracy')\n",
    "    plt.xlabel('Combinations')\n",
    "    plt.savefig(\"dd.png\")\n",
    "    \n",
    "    pass\n",
    "\n",
    "\n"
   ]
  },
  {
   "cell_type": "code",
   "execution_count": 11,
   "metadata": {
    "collapsed": false
   },
   "outputs": [],
   "source": [
    "plot_sorted_accuracies()"
   ]
  },
  {
   "cell_type": "code",
   "execution_count": 148,
   "metadata": {
    "collapsed": false
   },
   "outputs": [],
   "source": [
    "def mean_accuracy_per_setting(results):\n",
    "    \"\"\"\n",
    "    To determine how important each model setting is to overall accuracy,\n",
    "    we'll compute the mean accuracy of all combinations with a particular\n",
    "    setting. For example, compute the mean accuracy of all runs with\n",
    "    min_freq=2.\n",
    "\n",
    "    Params:\n",
    "      results...The output of eval_all_combinations\n",
    "    Returns:\n",
    "      A list of (accuracy, setting) tuples, SORTED in\n",
    "      descending order of accuracy.\n",
    "    \"\"\"\n",
    "    mean_list =[]\n",
    "    accuracy_result = {}\n",
    "    for i in results:\n",
    "        for j in i:\n",
    "            if j != 'accuracy': \n",
    "                if j == 'features':\n",
    "                    key = \"features=\"\n",
    "                    for f in i[j]:\n",
    "                        key += \" \"+str(f).split()[1]\n",
    "                elif j == 'punct':\n",
    "                    key = 'punct='+str(i[j])\n",
    "                elif j == 'min_freq':\n",
    "                    key = 'min_freq='+str(i[j])\n",
    "\n",
    "                if key in accuracy_result and j != 'accuracy':\n",
    "                    accuracy_result[key] .append(i['accuracy'])\n",
    "                elif key not in accuracy_result and j != 'accuracy':\n",
    "                    accuracy_result[key] = [i['accuracy']]\n",
    "    \n",
    "    for i in accuracy_result:\n",
    "        mean_list.append((np.mean(accuracy_result[i]),i))\n",
    "   \n",
    "\n",
    "    return sorted(mean_list, key = lambda x:x[1], reverse = True) "
   ]
  },
  {
   "cell_type": "code",
   "execution_count": null,
   "metadata": {
    "collapsed": false,
    "scrolled": true
   },
   "outputs": [],
   "source": []
  },
  {
   "cell_type": "code",
   "execution_count": 133,
   "metadata": {
    "collapsed": true
   },
   "outputs": [],
   "source": [
    "def fit_best_classifier(docs, labels, best_result):\n",
    "    \"\"\"\n",
    "    Using the best setting from eval_all_combinations,\n",
    "    re-vectorize all the training data and fit a\n",
    "    LogisticRegression classifier to all training data.\n",
    "    (i.e., no cross-validation done here)\n",
    "\n",
    "    Params:\n",
    "      docs..........List of training document strings.\n",
    "      labels........The true labels for each training document (0 or 1)\n",
    "      best_result...Element of eval_all_combinations\n",
    "                    with highest accuracy\n",
    "    Returns:\n",
    "      clf.....A LogisticRegression classifier fit to all\n",
    "            training data.\n",
    "      vocab...The dict from feature name to column index.\n",
    "\n",
    "    \"\"\"\n",
    "    clf = LogisticRegression()\n",
    "    t_list = [tokenize(d,keep_internal_punct=best_result['punct']) for d in docs]\n",
    "    feature_fns = best_result['features']\n",
    "    X, vocab = vectorize(t_list, feature_fns, min_freq=best_result['min_freq'])\n",
    "    \n",
    "    return clf.fit(X,labels),vocab\n",
    "    pass"
   ]
  },
  {
   "cell_type": "code",
   "execution_count": null,
   "metadata": {
    "collapsed": false
   },
   "outputs": [],
   "source": []
  },
  {
   "cell_type": "code",
   "execution_count": 135,
   "metadata": {
    "collapsed": true
   },
   "outputs": [],
   "source": [
    "def top_coefs(clf, label, n, vocab):\n",
    "    \"\"\"\n",
    "    Find the n features with the highest coefficients in\n",
    "    this classifier for this label.\n",
    "    See the .coef_ attribute of LogisticRegression.\n",
    "\n",
    "    Params:\n",
    "      clf.....LogisticRegression classifier\n",
    "      label...1 or 0; if 1, return the top coefficients\n",
    "              for the positive class; else for negative.\n",
    "      n.......The number of coefficients to return.\n",
    "      vocab...Dict from feature name to column index.\n",
    "    Returns:\n",
    "      List of (feature_name, coefficient) tuples, SORTED\n",
    "      in descending order of the coefficient for the\n",
    "      given class label.\n",
    "    \"\"\"\n",
    "    ###TODO\n",
    "    top_coefs = []\n",
    "    coef = clf.coef_[0]\n",
    "    index_sorted = np.argsort(coef)\n",
    "    if label==0:\n",
    "        n_coef = index_sorted[:n]\n",
    "    elif label == 1:\n",
    "        n_coef = index_sorted[::-1][:n]\n",
    "\n",
    "    terms = np.array(sorted(vocab.keys()))\n",
    "    \n",
    "    for n, c in zip(terms[n_coef], coef[n_coef]):\n",
    "        top_coefs.append((n,abs(c)))\n",
    "\n",
    "    return top_coefs\n"
   ]
  },
  {
   "cell_type": "code",
   "execution_count": null,
   "metadata": {
    "collapsed": false
   },
   "outputs": [],
   "source": []
  },
  {
   "cell_type": "code",
   "execution_count": 144,
   "metadata": {
    "collapsed": true
   },
   "outputs": [],
   "source": [
    "def parse_test_data(best_result, vocab):\n",
    "    \"\"\"\n",
    "    Using the vocabulary fit to the training data, read\n",
    "    and vectorize the testing data. Note that vocab should\n",
    "    be passed to the vectorize function to ensure the feature\n",
    "    mapping is consistent from training to testing.\n",
    "\n",
    "    Note: use read_data function defined above to read the\n",
    "    test data.\n",
    "\n",
    "    Params:\n",
    "      best_result...Element of eval_all_combinations\n",
    "                    with highest accuracy\n",
    "      vocab.........dict from feature name to column index,\n",
    "                    built from the training data.\n",
    "    Returns:\n",
    "      test_docs.....List of strings, one per testing document,\n",
    "                    containing the raw.\n",
    "      test_labels...List of ints, one per testing document,\n",
    "                    1 for positive, 0 for negative.\n",
    "      X_test........A csr_matrix representing the features\n",
    "                    in the test data. Each row is a document,\n",
    "                    each column is a feature.\n",
    "    \"\"\"\n",
    "    ###TODO\n",
    "    test_docs, test_labels = read_data(os.path.join('data', 'test'))\n",
    "    tokens_list = [tokenize(d,keep_internal_punct=best_result['punct']) for d in test_docs]\n",
    "    feature_fns = best_result['features']\n",
    "    X_test, vocab = vectorize(tokens_list, feature_fns, min_freq=best_result['min_freq'],vocab = vocab)\n",
    "    return test_docs,test_labels,X_test\n",
    "    pass"
   ]
  },
  {
   "cell_type": "code",
   "execution_count": null,
   "metadata": {
    "collapsed": true
   },
   "outputs": [],
   "source": []
  },
  {
   "cell_type": "code",
   "execution_count": null,
   "metadata": {
    "collapsed": false
   },
   "outputs": [],
   "source": []
  },
  {
   "cell_type": "code",
   "execution_count": 200,
   "metadata": {
    "collapsed": false
   },
   "outputs": [],
   "source": [
    "def print_top_misclassified(test_docs, test_labels, X_test, clf, n):\n",
    "    \"\"\"\n",
    "    Print the n testing documents that are misclassified by the\n",
    "    largest margin. By using the .predict_proba function of\n",
    "    LogisticRegression <https://goo.gl/4WXbYA>, we can get the\n",
    "    predicted probabilities of each class for each instance.\n",
    "    We will first identify all incorrectly classified documents,\n",
    "    then sort them in descending order of the predicted probability\n",
    "    for the incorrect class.\n",
    "    E.g., if document i is misclassified as positive, we will\n",
    "    consider the probability of the positive class when sorting.\n",
    "\n",
    "    Params:\n",
    "      test_docs.....List of strings, one per test document\n",
    "      test_labels...Array of true testing labels\n",
    "      X_test........csr_matrix for test data\n",
    "      clf...........LogisticRegression classifier fit on all training\n",
    "                    data.\n",
    "      n.............The number of documents to print.\n",
    "\n",
    "    Returns:\n",
    "      Nothing; see Log.txt for example printed output.\n",
    "    \"\"\"\n",
    "    ###TODO\n",
    "    \n",
    "    predicted = clf.predict(X_test)\n",
    "    predicted_proba = clf.predict_proba(X_test)\n",
    "    probas = []\n",
    "    probas1 = []\n",
    "    \n",
    "    for i in range(len(predicted)):\n",
    "        if predicted[i] != test_labels[i]:\n",
    "            probas.append((test_labels[i],predicted[i],test_docs[i],predicted_proba[i][predicted[i]]))\n",
    "    probas1 = sorted(probas, key=lambda x: x[3], reverse=True)[:n]\n",
    "    \n",
    "    for i in probas1:\n",
    "        print (\"truth=\",i[0],\"predicted=\",i[1],\"proba\",i[3],\"\\n\",i[2])\n",
    "    pass"
   ]
  },
  {
   "cell_type": "code",
   "execution_count": null,
   "metadata": {
    "collapsed": false
   },
   "outputs": [],
   "source": []
  },
  {
   "cell_type": "code",
   "execution_count": 197,
   "metadata": {
    "collapsed": false
   },
   "outputs": [
    {
     "name": "stdout",
     "output_type": "stream",
     "text": [
      "best cross-validation result:\n",
      "{'min_freq': 2, 'features': (<function token_pair_features at 0x0000000009A9EBF8>, <function lexicon_features at 0x000000000A3B1488>), 'accuracy': 0.77000000000000013, 'punct': True}\n",
      "worst cross-validation result:\n",
      "{'min_freq': 2, 'features': (<function lexicon_features at 0x000000000A3B1488>,), 'accuracy': 0.64749999999999996, 'punct': True}\n",
      "\n",
      "Mean Accuracies per Setting:\n",
      "punct=True: 0.70869\n",
      "punct=False: 0.72012\n",
      "min_freq=5: 0.71964\n",
      "min_freq=2: 0.72286\n",
      "min_freq=10: 0.70071\n",
      "features= token_pair_features lexicon_features: 0.75167\n",
      "features= token_pair_features: 0.73000\n",
      "features= token_features token_pair_features lexicon_features: 0.74292\n",
      "features= token_features token_pair_features: 0.73250\n",
      "features= token_features lexicon_features: 0.70042\n",
      "features= token_features: 0.69208\n",
      "features= lexicon_features: 0.65125\n",
      "\n",
      "TOP COEFFICIENTS PER CLASS:\n",
      "negative words:\n",
      "neg_words: 0.65927\n",
      "token_pair=the_worst: 0.37446\n",
      "token_pair=is_so: 0.31201\n",
      "token_pair=about_the: 0.30102\n",
      "token_pair=like_a: 0.26894\n",
      "\n",
      "positive words:\n",
      "pos_words: 0.52587\n",
      "token_pair=it_is: 0.23956\n",
      "token_pair=a_lot: 0.21044\n",
      "token_pair=to_find: 0.20783\n",
      "token_pair=the_and: 0.20582\n",
      "testing accuracy=0.732500\n",
      "\n",
      "TOP MISCLASSIFIED TEST DOCUMENTS:\n",
      "truth= 0 predicted= 1 proba 0.991216416588 \n",
      " I absolutely despise this film. I wanted to love it - I really wanted to. But man, oh man - they were SO off with Sara. And the father living was pretty cheesy. That's straight out of the Shirley Temple film.<br /><br />I highly recommend THE BOOK. It is amazing. In the book, Sara is honorable and decent and she does the right thing... BECAUSE IT IS RIGHT. She doesn't have a spiteful bone in her body.<br /><br />In the film, she is mean-spirited and spiteful. She does little things to get back at Miss Minchin. In the book, Sara is above such things. She DOES stand up to Miss Minchin. She tells the truth and is not cowed by her. But she does not do the stupid, spiteful things that the Sara in the film does.<br /><br />It's really rather unsettling to me that so many here say they loved the book and they love the movie. I can't help but wonder... did we read the same book? The whole point of the book was personal responsibility, behaving with honor and integrity, ALWAYS telling the truth and facing adversity with calm and integrity.<br /><br />Sara has a happy ending in the book - not the ridiculous survival of her father, but the joining with his partner who has been searching for her. In the book, she is taken in by this new father figure who loves and cares for her and Becky. And Miss Minchin is NOT a chimney sweep - that part of the film really was stupid.<br /><br />To see all this praise for this wretched film is disturbing to me. We are praising a film that glorifies petty, spiteful behavior with a few tips of the hat to kindness? Sara in the book was kind to the bone and full of integrity. I don't even recognize her in the film... she's not in it.<br /><br />Good thing Mrs. Burnett isn't alive to see this horrid thing. It's ghastly and undeserving to bear the title of her book.\n",
      "truth= 0 predicted= 1 proba 0.99115879432 \n",
      " When I attended college in the early 70s, it was a simpler time. Except for a brief occurrence in 1994, I've been totally free of the influence of illegal substances ever since and I've never regretted it...until now. DB:TBTE has got to be, hands-down, the best movie to watch when stoned. The odd, dreamlike state it creates is very strange when you're not smoking anything, but I'm sure that it would seem completely normal after a big doobie. (Not that I'm recommending this, you understand.) The soothing narration, provided, as it usually is in quality cinema, by a TB victim trapped in a painting, would be ideal to help the stoned viewer to follow along as things get complicated. Plus, everything in the film is pretty organic...from old-fashioned natural breasts to the bucket of fried chicken.<br /><br />Now, there's also no question that the young man with the (ahem) \"hand problem\" is absolutely sailing away in the film. At one point, you just KNOW that he's going to say, \"Hey! When I move my hand, it leaves trails!!\" Trust me...you'll know when you get to that point.<br /><br />The only other thing we have to address is this: How good can a film be when at least half the budget was spent on moving a huge bed frame around for interior and exterior shots? <br /><br />Definitely a must-see for horror aficionados, but suitable for the general audiences under the right conditions (if you know what I mean, and I think that you do). It only earns four stars because I can't actually say that it took any talent to make.\n",
      "truth= 1 predicted= 0 proba 0.989929626198 \n",
      " Being a freshman in college, this movie reminded me of my relationship with my mom. Of course, my situation doesn't parrallel with Natalie Portman and Surandon's situation; but my mom and I have grown up with the typical mother and daughter fights. There is always the mother telling you what to do, or not being the kind of mother you want to be. I was balling my eyes at the end of this movie. Surandon's reaction of her daughter going to the East coast, miles away, after all they've been through reminded me of how I felt, being from a small city in the West coast, going to New York. <br /><br />The movie is meant for women who have children that are now all grown up. It is very touching, I was moved by the movie. Every feeling out of the characters in this movie was utterly real, you didn't get any phony sentimentality. I was sitting through the credits at the screening of this movie, alone, wishing my mother was sitting next to me so I could hug her and thank her for everything. This movie is a bit corny of course, but everything is trully momentous. Its all about what a mom can learn from her child; and what a child learns from her mother. 8/10\n",
      "truth= 1 predicted= 0 proba 0.989907834013 \n",
      " In defense of this movie I must repeat what I had stated previously. The movie is called Arachina, it has a no name cast and I do not mean no name as in actors who play in little seen art house films. I mean no name as in your local high school decided to make a film no name and it might have a 2 dollar budget. So what does one expect? Hitchcock?<br /><br />I felt the movie never took itself seriously which automatically takes it out of the worst movie list. That list is only for big budget all star cast movies that takes itself way too seriously. THe movie The Oscar comes to mind, most of Sylvester Stallone's movies. THe two leads were not Hepburn and Tracy but they did their jobs well enough for this movie. The woman kicked butt and the guy was not a blithering idiot. The actor who played the old man was actually very good. The man who played anal retentive professor was no Clifton Webb but he did a god job. And the Bimbo's for lack of a better were played by two competent actors. I laughed at the 50 cent special effects. But that was part of the charm of the movie. It played like a hybrid Tremors meets Night of the Living Dead. The premise of the movie is just like all Giant Bug movies of the 50's. A Meteor or radiation stir up the ecosystem and before you know it we have Giant Ants, Lobsters, rocks or Lizards terrorizing the locals. A meteor was the cause of the problems this time. I was was very entertained. I didn't expect much and I go a lot more then I bargained for.\n",
      "truth= 1 predicted= 0 proba 0.975729480873 \n",
      " Ah, classic comedy. At the point in the movie where brains get messed together, a two minute scene with Bruce Campbell beating himself up partially, reminds me of how simplistic movies and ideas can grab you and wrap you into a whole movie.<br /><br />For years and years, Bruce Campbell knows what kind of movies we want out of him. We want to see weird movies like Bubba Ho Tep. We want to see cameo roles in Sam Raimi movies, and we want to see 'Man with the Screaming Brain'. With the title alone, one knows that it's going to border that completely silly type of movie, like Army of Darkness, only with more silly and less monsters.<br /><br />The idea of the movie is simple. Bruce sees doctor. Doctor has new idea. Bruce gets bad things happen to him on way to see doctor. Coincidentally, it's the thing the doctor wanted to show him that saves him. Hilarity ensues.<br /><br />With the addition of Ted Raimi as a weird Russian guy, and journeyman Stacy Keach as Dr. Ivan Ivanovich Ivanov, it's funny, that does this movie. Complete funny. Never a point of scary.<br /><br />If you like the silly Bruce Campbell, you'll like this. Then again, why would you be watching this if you didn't like Bruce Campbell?\n"
     ]
    },
    {
     "data": {
      "image/png": "[encoded data removed]",
      "text/plain": [
       "<matplotlib.figure.Figure at 0xa64ef28>"
      ]
     },
     "metadata": {},
     "output_type": "display_data"
    }
   ],
   "source": [
    "\n",
    "def main():\n",
    "    \"\"\"\n",
    "    Put it all together.\n",
    "    ALREADY DONE.\n",
    "    \"\"\"\n",
    "    feature_fns = [token_features, token_pair_features, lexicon_features]\n",
    "    # Download and read data.\n",
    "    download_data()\n",
    "    docs, labels = read_data(os.path.join('data', 'train'))\n",
    "    # Evaluate accuracy of many combinations\n",
    "    # of tokenization/featurization.\n",
    "    results = eval_all_combinations(docs, labels, [True, False],feature_fns,[2,5,10])\n",
    "    # Print information about these results.\n",
    "    best_result = results[0]\n",
    "    worst_result = results[-1]\n",
    "    print('best cross-validation result:\\n%s' % str(best_result))\n",
    "    print('worst cross-validation result:\\n%s' % str(worst_result))\n",
    "    plot_sorted_accuracies(results)\n",
    "    print('\\nMean Accuracies per Setting:')\n",
    "    print('\\n'.join(['%s: %.5f' % (s,v) for v,s in mean_accuracy_per_setting(results)]))\n",
    "\n",
    "    # Fit best classifier.\n",
    "    clf, vocab = fit_best_classifier(docs, labels, results[0])\n",
    "\n",
    "    # Print top coefficients per class.\n",
    "    print('\\nTOP COEFFICIENTS PER CLASS:')\n",
    "    print('negative words:')\n",
    "    print('\\n'.join(['%s: %.5f' % (t,v) for t,v in top_coefs(clf, 0, 5, vocab)]))\n",
    "    print('\\npositive words:')\n",
    "    print('\\n'.join(['%s: %.5f' % (t,v) for t,v in top_coefs(clf, 1, 5, vocab)]))\n",
    "\n",
    "    # Parse test data\n",
    "    test_docs, test_labels, X_test = parse_test_data(best_result, vocab)\n",
    "\n",
    "    # Evaluate on test set.\n",
    "    predictions = clf.predict(X_test)\n",
    "    print('testing accuracy=%f' %\n",
    "          accuracy_score(test_labels, predictions))\n",
    "\n",
    "    print('\\nTOP MISCLASSIFIED TEST DOCUMENTS:')\n",
    "    print_top_misclassified(test_docs, test_labels, X_test, clf, 5)\n",
    "\n",
    "\n",
    "if __name__ == '__main__':\n",
    "    main()\n"
   ]
  },
  {
   "cell_type": "code",
   "execution_count": null,
   "metadata": {
    "collapsed": false
   },
   "outputs": [],
   "source": []
  },
  {
   "cell_type": "code",
   "execution_count": null,
   "metadata": {
    "collapsed": true
   },
   "outputs": [],
   "source": []
  }
 ],
 "metadata": {
  "anaconda-cloud": {},
  "kernelspec": {
   "display_name": "Python [Root]",
   "language": "python",
   "name": "Python [Root]"
  },
  "language_info": {
   "codemirror_mode": {
    "name": "ipython",
    "version": 3
   },
   "file_extension": ".py",
   "mimetype": "text/x-python",
   "name": "python",
   "nbconvert_exporter": "python",
   "pygments_lexer": "ipython3",
   "version": "3.5.2"
  }
 },
 "nbformat": 4,
 "nbformat_minor": 0
}
